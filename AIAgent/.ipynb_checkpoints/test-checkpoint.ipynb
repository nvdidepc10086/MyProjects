{
 "cells": [
  {
   "cell_type": "code",
   "execution_count": 4,
   "id": "bb14893b-0e22-4de2-a318-a840e19a50f7",
   "metadata": {},
   "outputs": [],
   "source": [
    "import os \n",
    "os.environ[\"OPENAI_API_KEY\"] = \"sk-9npZpELUzM0IxRU1B79bF5B9FfC04bDeA730F4090dF782A3\" \n",
    "os.environ[\"OPENAI_PROXY\"] = \"https://ai-yyds.com/v1\"\n",
    "#use openai offical sdk\n",
    "import openai\n",
    "from langchain.chat_models import ChatOpenAI\n",
    "import os\n",
    "openai_api_base = os.getenv(\"OPENAI_PROXY\")\n",
    "openai_api_key = os.getenv(\"OPENAI_API_KEY\")\n",
    "\n",
    "#messages = [  {\"role\": \"user\", \"content\": \"intrduce yourself\"}]\n",
    "\n",
    "\n",
    "\n",
    "llm = ChatOpenAI(\n",
    "    model_name = 'gpt-4-1106-preview',\n",
    "    temperature = 0,\n",
    "    openai_api_key = openai_api_key,\n",
    "    openai_api_base = openai_api_base\n",
    ")\n",
    "llm.predict(\"介绍下你自己\")\n",
    "\n",
    "#res = openai.ChatCompletion.create( model = \"gpt-4-1106-preview\", messages = messages, stream = False,)\n",
    "\n",
    "#print(res['choices'][0]['message']['content'])"
   ]
  },
  {
   "cell_type": "code",
   "execution_count": null,
   "id": "d103dbb6-f28b-4479-9b3a-9c3a28f3e195",
   "metadata": {},
   "outputs": [],
   "source": []
  },
  {
   "cell_type": "code",
   "execution_count": null,
   "id": "d6856445-193a-493d-baba-3b020305e453",
   "metadata": {},
   "outputs": [],
   "source": []
  },
  {
   "cell_type": "code",
   "execution_count": null,
   "id": "6ae6c8e3-283e-42e9-bc5b-9a0dede4d29d",
   "metadata": {},
   "outputs": [],
   "source": []
  },
  {
   "cell_type": "code",
   "execution_count": null,
   "id": "f8451457-b7b5-4aef-85dc-604060664007",
   "metadata": {},
   "outputs": [],
   "source": []
  }
 ],
 "metadata": {
  "kernelspec": {
   "display_name": "Python 3 (ipykernel)",
   "language": "python",
   "name": "python3"
  },
  "language_info": {
   "codemirror_mode": {
    "name": "ipython",
    "version": 3
   },
   "file_extension": ".py",
   "mimetype": "text/x-python",
   "name": "python",
   "nbconvert_exporter": "python",
   "pygments_lexer": "ipython3",
   "version": "3.10.11"
  }
 },
 "nbformat": 4,
 "nbformat_minor": 5
}
